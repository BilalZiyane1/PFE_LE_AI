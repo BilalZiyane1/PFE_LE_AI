{
 "cells": [
  {
   "cell_type": "code",
   "execution_count": 25,
   "id": "4f1390cf",
   "metadata": {},
   "outputs": [],
   "source": [
    "import pandas as pd"
   ]
  },
  {
   "cell_type": "code",
   "execution_count": 26,
   "id": "ac329210",
   "metadata": {},
   "outputs": [],
   "source": [
    "df = pd.read_csv('linkedin_jobs.csv')\n"
   ]
  },
  {
   "cell_type": "code",
   "execution_count": 27,
   "id": "9bc40e22",
   "metadata": {},
   "outputs": [
    {
     "data": {
      "text/plain": [
       "(2609, 13)"
      ]
     },
     "execution_count": 27,
     "metadata": {},
     "output_type": "execute_result"
    }
   ],
   "source": [
    "df.shape"
   ]
  },
  {
   "cell_type": "code",
   "execution_count": 28,
   "id": "2c3f552a",
   "metadata": {},
   "outputs": [],
   "source": [
    "df = df.drop_duplicates()\n"
   ]
  },
  {
   "cell_type": "code",
   "execution_count": 29,
   "id": "c2b1d2d1",
   "metadata": {},
   "outputs": [
    {
     "data": {
      "text/plain": [
       "(2609, 13)"
      ]
     },
     "execution_count": 29,
     "metadata": {},
     "output_type": "execute_result"
    }
   ],
   "source": [
    "df.shape"
   ]
  },
  {
   "cell_type": "code",
   "execution_count": 30,
   "id": "8b9bbc3d",
   "metadata": {},
   "outputs": [],
   "source": [
    "# handle missing values\n",
    "\n",
    "df.isnull().sum()  # Check missing values\n",
    "\n",
    "# Option 1: Fill missing values (e.g., replace NaNs in num_applicants)\n",
    "df['num_applicants'] = df['num_applicants'].fillna(0)\n",
    "\n",
    "# Option 2: Drop rows if critical info is missing\n",
    "df = df.dropna(subset=['company_name'])\n"
   ]
  },
  {
   "cell_type": "code",
   "execution_count": 31,
   "id": "6a49ffae",
   "metadata": {},
   "outputs": [
    {
     "data": {
      "text/plain": [
       "(2539, 13)"
      ]
     },
     "execution_count": 31,
     "metadata": {},
     "output_type": "execute_result"
    }
   ],
   "source": [
    "df.shape"
   ]
  },
  {
   "cell_type": "code",
   "execution_count": null,
   "id": "1ca5cab3",
   "metadata": {},
   "outputs": [],
   "source": [
    "#normalize text columns"
   ]
  }
 ],
 "metadata": {
  "kernelspec": {
   "display_name": "Python 3",
   "language": "python",
   "name": "python3"
  },
  "language_info": {
   "codemirror_mode": {
    "name": "ipython",
    "version": 3
   },
   "file_extension": ".py",
   "mimetype": "text/x-python",
   "name": "python",
   "nbconvert_exporter": "python",
   "pygments_lexer": "ipython3",
   "version": "3.13.2"
  }
 },
 "nbformat": 4,
 "nbformat_minor": 5
}
